{
 "cells": [
  {
   "cell_type": "markdown",
   "metadata": {},
   "source": [
    "<h1 align=\"center\"><font size=\"5\">Supervised Machine Learning: Regression by Nikhil</font></h1>\n"
   ]
  },
  {
   "cell_type": "code",
   "execution_count": 1,
   "metadata": {},
   "outputs": [],
   "source": [
    "import pandas as pd\n",
    "import numpy as np\n",
    "import matplotlib.pyplot as plt\n",
    "import seaborn as sns\n",
    "# import pickle\n",
    "\n",
    "from sklearn.preprocessing import StandardScaler, PolynomialFeatures\n",
    "from sklearn.model_selection import KFold, cross_val_predict\n",
    "from sklearn.linear_model import LinearRegression, Lasso, Ridge\n",
    "from sklearn.metrics import r2_score\n",
    "from sklearn.pipeline import Pipeline"
   ]
  },
  {
   "cell_type": "markdown",
   "metadata": {},
   "source": [
    "## Dataset obtained from kaggle: **Laptop Price Prediction**"
   ]
  },
  {
   "cell_type": "code",
   "execution_count": 2,
   "metadata": {},
   "outputs": [],
   "source": [
    "data = pd.read_csv('Cleaned_Laptop_data.csv')"
   ]
  },
  {
   "cell_type": "markdown",
   "metadata": {},
   "source": [
    "# 1. About the Data\n"
   ]
  },
  {
   "cell_type": "code",
   "execution_count": 3,
   "metadata": {},
   "outputs": [
    {
     "data": {
      "text/html": [
       "<div>\n",
       "<style scoped>\n",
       "    .dataframe tbody tr th:only-of-type {\n",
       "        vertical-align: middle;\n",
       "    }\n",
       "\n",
       "    .dataframe tbody tr th {\n",
       "        vertical-align: top;\n",
       "    }\n",
       "\n",
       "    .dataframe thead th {\n",
       "        text-align: right;\n",
       "    }\n",
       "</style>\n",
       "<table border=\"1\" class=\"dataframe\">\n",
       "  <thead>\n",
       "    <tr style=\"text-align: right;\">\n",
       "      <th></th>\n",
       "      <th>brand</th>\n",
       "      <th>model</th>\n",
       "      <th>processor_brand</th>\n",
       "      <th>processor_name</th>\n",
       "      <th>processor_gnrtn</th>\n",
       "      <th>ram_gb</th>\n",
       "      <th>ram_type</th>\n",
       "      <th>ssd</th>\n",
       "      <th>hdd</th>\n",
       "      <th>os</th>\n",
       "      <th>...</th>\n",
       "      <th>display_size</th>\n",
       "      <th>warranty</th>\n",
       "      <th>Touchscreen</th>\n",
       "      <th>msoffice</th>\n",
       "      <th>latest_price</th>\n",
       "      <th>old_price</th>\n",
       "      <th>discount</th>\n",
       "      <th>star_rating</th>\n",
       "      <th>ratings</th>\n",
       "      <th>reviews</th>\n",
       "    </tr>\n",
       "  </thead>\n",
       "  <tbody>\n",
       "    <tr>\n",
       "      <th>0</th>\n",
       "      <td>Lenovo</td>\n",
       "      <td>A6-9225</td>\n",
       "      <td>AMD</td>\n",
       "      <td>A6-9225 Processor</td>\n",
       "      <td>10th</td>\n",
       "      <td>4 GB GB</td>\n",
       "      <td>DDR4</td>\n",
       "      <td>0 GB</td>\n",
       "      <td>1024 GB</td>\n",
       "      <td>Windows</td>\n",
       "      <td>...</td>\n",
       "      <td>Missing</td>\n",
       "      <td>0</td>\n",
       "      <td>No</td>\n",
       "      <td>No</td>\n",
       "      <td>24990</td>\n",
       "      <td>32790</td>\n",
       "      <td>23</td>\n",
       "      <td>3.7</td>\n",
       "      <td>63</td>\n",
       "      <td>12</td>\n",
       "    </tr>\n",
       "    <tr>\n",
       "      <th>1</th>\n",
       "      <td>Lenovo</td>\n",
       "      <td>Ideapad</td>\n",
       "      <td>AMD</td>\n",
       "      <td>APU Dual</td>\n",
       "      <td>10th</td>\n",
       "      <td>4 GB GB</td>\n",
       "      <td>DDR4</td>\n",
       "      <td>0 GB</td>\n",
       "      <td>512 GB</td>\n",
       "      <td>Windows</td>\n",
       "      <td>...</td>\n",
       "      <td>Missing</td>\n",
       "      <td>0</td>\n",
       "      <td>No</td>\n",
       "      <td>No</td>\n",
       "      <td>19590</td>\n",
       "      <td>21325</td>\n",
       "      <td>8</td>\n",
       "      <td>3.6</td>\n",
       "      <td>1894</td>\n",
       "      <td>256</td>\n",
       "    </tr>\n",
       "    <tr>\n",
       "      <th>2</th>\n",
       "      <td>Avita</td>\n",
       "      <td>PURA</td>\n",
       "      <td>AMD</td>\n",
       "      <td>APU Dual</td>\n",
       "      <td>10th</td>\n",
       "      <td>4 GB GB</td>\n",
       "      <td>DDR4</td>\n",
       "      <td>128 GB</td>\n",
       "      <td>0 GB</td>\n",
       "      <td>Windows</td>\n",
       "      <td>...</td>\n",
       "      <td>Missing</td>\n",
       "      <td>0</td>\n",
       "      <td>No</td>\n",
       "      <td>No</td>\n",
       "      <td>19990</td>\n",
       "      <td>27990</td>\n",
       "      <td>28</td>\n",
       "      <td>3.7</td>\n",
       "      <td>1153</td>\n",
       "      <td>159</td>\n",
       "    </tr>\n",
       "    <tr>\n",
       "      <th>3</th>\n",
       "      <td>Avita</td>\n",
       "      <td>PURA</td>\n",
       "      <td>AMD</td>\n",
       "      <td>APU Dual</td>\n",
       "      <td>10th</td>\n",
       "      <td>4 GB GB</td>\n",
       "      <td>DDR4</td>\n",
       "      <td>128 GB</td>\n",
       "      <td>0 GB</td>\n",
       "      <td>Windows</td>\n",
       "      <td>...</td>\n",
       "      <td>Missing</td>\n",
       "      <td>0</td>\n",
       "      <td>No</td>\n",
       "      <td>No</td>\n",
       "      <td>21490</td>\n",
       "      <td>27990</td>\n",
       "      <td>23</td>\n",
       "      <td>3.7</td>\n",
       "      <td>1153</td>\n",
       "      <td>159</td>\n",
       "    </tr>\n",
       "    <tr>\n",
       "      <th>4</th>\n",
       "      <td>Avita</td>\n",
       "      <td>PURA</td>\n",
       "      <td>AMD</td>\n",
       "      <td>APU Dual</td>\n",
       "      <td>10th</td>\n",
       "      <td>4 GB GB</td>\n",
       "      <td>DDR4</td>\n",
       "      <td>256 GB</td>\n",
       "      <td>0 GB</td>\n",
       "      <td>Windows</td>\n",
       "      <td>...</td>\n",
       "      <td>Missing</td>\n",
       "      <td>0</td>\n",
       "      <td>No</td>\n",
       "      <td>No</td>\n",
       "      <td>24990</td>\n",
       "      <td>33490</td>\n",
       "      <td>25</td>\n",
       "      <td>3.7</td>\n",
       "      <td>1657</td>\n",
       "      <td>234</td>\n",
       "    </tr>\n",
       "  </tbody>\n",
       "</table>\n",
       "<p>5 rows × 23 columns</p>\n",
       "</div>"
      ],
      "text/plain": [
       "    brand    model processor_brand     processor_name processor_gnrtn   \n",
       "0  Lenovo  A6-9225             AMD  A6-9225 Processor            10th  \\\n",
       "1  Lenovo  Ideapad             AMD           APU Dual            10th   \n",
       "2   Avita     PURA             AMD           APU Dual            10th   \n",
       "3   Avita     PURA             AMD           APU Dual            10th   \n",
       "4   Avita     PURA             AMD           APU Dual            10th   \n",
       "\n",
       "    ram_gb ram_type     ssd      hdd       os  ... display_size  warranty   \n",
       "0  4 GB GB     DDR4    0 GB  1024 GB  Windows  ...      Missing         0  \\\n",
       "1  4 GB GB     DDR4    0 GB   512 GB  Windows  ...      Missing         0   \n",
       "2  4 GB GB     DDR4  128 GB     0 GB  Windows  ...      Missing         0   \n",
       "3  4 GB GB     DDR4  128 GB     0 GB  Windows  ...      Missing         0   \n",
       "4  4 GB GB     DDR4  256 GB     0 GB  Windows  ...      Missing         0   \n",
       "\n",
       "  Touchscreen msoffice  latest_price old_price discount  star_rating  ratings   \n",
       "0          No       No         24990     32790       23          3.7       63  \\\n",
       "1          No       No         19590     21325        8          3.6     1894   \n",
       "2          No       No         19990     27990       28          3.7     1153   \n",
       "3          No       No         21490     27990       23          3.7     1153   \n",
       "4          No       No         24990     33490       25          3.7     1657   \n",
       "\n",
       "   reviews  \n",
       "0       12  \n",
       "1      256  \n",
       "2      159  \n",
       "3      159  \n",
       "4      234  \n",
       "\n",
       "[5 rows x 23 columns]"
      ]
     },
     "execution_count": 3,
     "metadata": {},
     "output_type": "execute_result"
    }
   ],
   "source": [
    "data.head()"
   ]
  },
  {
   "cell_type": "code",
   "execution_count": 4,
   "metadata": {},
   "outputs": [
    {
     "name": "stdout",
     "output_type": "stream",
     "text": [
      "<class 'pandas.core.frame.DataFrame'>\n",
      "RangeIndex: 896 entries, 0 to 895\n",
      "Data columns (total 23 columns):\n",
      " #   Column           Non-Null Count  Dtype  \n",
      "---  ------           --------------  -----  \n",
      " 0   brand            896 non-null    object \n",
      " 1   model            896 non-null    object \n",
      " 2   processor_brand  896 non-null    object \n",
      " 3   processor_name   896 non-null    object \n",
      " 4   processor_gnrtn  896 non-null    object \n",
      " 5   ram_gb           896 non-null    object \n",
      " 6   ram_type         896 non-null    object \n",
      " 7   ssd              896 non-null    object \n",
      " 8   hdd              896 non-null    object \n",
      " 9   os               896 non-null    object \n",
      " 10  os_bit           896 non-null    object \n",
      " 11  graphic_card_gb  896 non-null    int64  \n",
      " 12  weight           896 non-null    object \n",
      " 13  display_size     896 non-null    object \n",
      " 14  warranty         896 non-null    int64  \n",
      " 15  Touchscreen      896 non-null    object \n",
      " 16  msoffice         896 non-null    object \n",
      " 17  latest_price     896 non-null    int64  \n",
      " 18  old_price        896 non-null    int64  \n",
      " 19  discount         896 non-null    int64  \n",
      " 20  star_rating      896 non-null    float64\n",
      " 21  ratings          896 non-null    int64  \n",
      " 22  reviews          896 non-null    int64  \n",
      "dtypes: float64(1), int64(7), object(15)\n",
      "memory usage: 161.1+ KB\n"
     ]
    }
   ],
   "source": [
    "data.info()"
   ]
  },
  {
   "cell_type": "code",
   "execution_count": 5,
   "metadata": {},
   "outputs": [
    {
     "data": {
      "text/plain": [
       "<Axes: xlabel='latest_price', ylabel='Count'>"
      ]
     },
     "execution_count": 5,
     "metadata": {},
     "output_type": "execute_result"
    },
    {
     "data": {
      "image/png": "[encoded data removed]",
      "text/plain": [
       "<Figure size 640x480 with 1 Axes>"
      ]
     },
     "metadata": {},
     "output_type": "display_data"
    }
   ],
   "source": [
    "sns.histplot(data['latest_price'])"
   ]
  },
  {
   "cell_type": "markdown",
   "metadata": {},
   "source": [
    "The Laptop Dataset contains 23 features/attributes and 896 records. Since only one dataset is given, we can use this data for training and testing the model. Let's explore through the features of the Dataset.\n",
    "\n",
    "    brand: Manufacturer of Laptop.\n",
    "    model: Model name of the Laptop.\n",
    "    processor_brand: Manufacturer of the Processor.\n",
    "    processor_name: An integral part of the laptop, the processor will determine how powerful your computer is.\n",
    "    processor_gnrtn: A geneartion is a group of processors that were launched in some particular years and had significant improvements from processors launched earlier.\n",
    "    ram_gb: The storage size of ram in GB(Giga Bytes)\n",
    "    ram_type: The type of RAM used. This feature contains values such as-DDR4,LPDDR4X,LPDDR4,LPDDR3,DDR3,DDR5\n",
    "    ssd : The storage size of SSD.\n",
    "    hdd : The storage size of Hard Disk used .\n",
    "    os : Operating system such as Windows, DOS, Mac.\n",
    "    os_bit : OS Bit with values as 64 bit, 32 bit.\n",
    "    graphic_card_gb : The size of graphic card used in the Laptop.\n",
    "    weight : The type of Laptop based on weight. This feature contains values such as- Casual, ThinNlight, Gaming\n",
    "    display_size : Display size in inches .\n",
    "    warranty : Warranty in no. of years .\n",
    "    Touchscreen : This feature reveals whether the Laptop has touchscreen feature or not.\n",
    "    msoffice : This feature reveals whether the Laptop has MS Office installed or not.\n",
    "    old_price : Price of the Laptop when it was released.\n",
    "    discount : Discount percentage for price available for the laptop.\n",
    "    star_rating : User rating for the laptop with max rating as 5.0\n",
    "    ratings : Total no. of ratings received for the Laptop model.\n",
    "    reviews : No. of reviews received for the Laptop model.\n"
   ]
  },
  {
   "cell_type": "markdown",
   "metadata": {},
   "source": [
    "# 2. Objectives\n"
   ]
  },
  {
   "cell_type": "markdown",
   "metadata": {},
   "source": [
    "- Studying the features of the data sample.\n",
    "- Doing Feature Engineering and EDA\n",
    "- Data preprocessing for Regression analysis\n",
    "- Prediction using Linear Regression\n",
    "- Comparison between different regression techniques"
   ]
  },
  {
   "cell_type": "code",
   "execution_count": 6,
   "metadata": {},
   "outputs": [],
   "source": [
    "import warnings\n",
    "warnings.simplefilter(action=\"ignore\", category=FutureWarning)"
   ]
  },
  {
   "cell_type": "code",
   "execution_count": 7,
   "metadata": {},
   "outputs": [
    {
     "data": {
      "text/plain": [
       "(896, 23)"
      ]
     },
     "execution_count": 7,
     "metadata": {},
     "output_type": "execute_result"
    }
   ],
   "source": [
    "data.shape"
   ]
  },
  {
   "cell_type": "code",
   "execution_count": 8,
   "metadata": {},
   "outputs": [
    {
     "data": {
      "text/plain": [
       "20"
      ]
     },
     "execution_count": 8,
     "metadata": {},
     "output_type": "execute_result"
    }
   ],
   "source": [
    "data.duplicated().sum()"
   ]
  },
  {
   "cell_type": "code",
   "execution_count": 9,
   "metadata": {},
   "outputs": [],
   "source": [
    "data = data.drop_duplicates()"
   ]
  },
  {
   "cell_type": "code",
   "execution_count": 10,
   "metadata": {},
   "outputs": [
    {
     "data": {
      "text/plain": [
       "0"
      ]
     },
     "execution_count": 10,
     "metadata": {},
     "output_type": "execute_result"
    }
   ],
   "source": [
    "data.duplicated().sum()"
   ]
  },
  {
   "cell_type": "code",
   "execution_count": 11,
   "metadata": {},
   "outputs": [
    {
     "name": "stdout",
     "output_type": "stream",
     "text": [
      "brand 0\n",
      "model 95\n",
      "processor_brand 0\n",
      "processor_name 0\n",
      "processor_gnrtn 238\n",
      "ram_gb 0\n",
      "ram_type 0\n",
      "ssd 0\n",
      "hdd 0\n",
      "os 0\n",
      "os_bit 0\n",
      "graphic_card_gb 0\n",
      "weight 0\n",
      "display_size 328\n",
      "warranty 0\n",
      "Touchscreen 0\n",
      "msoffice 0\n",
      "latest_price 0\n",
      "old_price 0\n",
      "discount 0\n",
      "star_rating 0\n",
      "ratings 0\n",
      "reviews 0\n"
     ]
    }
   ],
   "source": [
    "for column in data.columns:\n",
    "    print(column,(data[column]=='Missing').sum())"
   ]
  },
  {
   "cell_type": "markdown",
   "metadata": {},
   "source": [
    "Replacing \"Missing\" value with NaN"
   ]
  },
  {
   "cell_type": "code",
   "execution_count": 12,
   "metadata": {},
   "outputs": [],
   "source": [
    "data_eda = data.replace('Missing', np.nan)"
   ]
  },
  {
   "cell_type": "code",
   "execution_count": 13,
   "metadata": {},
   "outputs": [
    {
     "name": "stdout",
     "output_type": "stream",
     "text": [
      "['brand', 'model', 'processor_brand', 'processor_name', 'processor_gnrtn', 'ram_gb', 'ram_type', 'ssd', 'hdd', 'os', 'os_bit', 'weight', 'display_size', 'Touchscreen', 'msoffice']\n",
      "\n",
      "No. of Category Columns :  15\n"
     ]
    }
   ],
   "source": [
    "#To print the categorical columns in the Laptop dataset \n",
    "\n",
    "category_columns=list(data_eda.select_dtypes(include=['object']).columns)\n",
    "print(category_columns)\n",
    "print(\"\\nNo. of Category Columns : \",len(category_columns))\n"
   ]
  },
  {
   "cell_type": "code",
   "execution_count": 14,
   "metadata": {},
   "outputs": [
    {
     "data": {
      "text/plain": [
       "array(['Lenovo', 'Avita', 'HP', 'acer', 'ASUS', 'DELL', 'RedmiBook',\n",
       "       'realme', 'Infinix', 'MSI', 'lenovo', 'MICROSOFT', 'Smartron',\n",
       "       'LG', 'Nokia', 'APPLE', 'Vaio', 'Mi', 'ALIENWARE', 'iball',\n",
       "       'SAMSUNG'], dtype=object)"
      ]
     },
     "execution_count": 14,
     "metadata": {},
     "output_type": "execute_result"
    }
   ],
   "source": [
    "data_eda.brand.unique()"
   ]
  },
  {
   "cell_type": "code",
   "execution_count": 15,
   "metadata": {},
   "outputs": [],
   "source": [
    "#Capitalizing all the categorical columns inorder to remove duplicated values in columns\n",
    "for col in category_columns:\n",
    "    data_eda[col]=data_eda[col].str.capitalize()"
   ]
  },
  {
   "cell_type": "code",
   "execution_count": 16,
   "metadata": {},
   "outputs": [
    {
     "data": {
      "text/plain": [
       "array(['Lenovo', 'Avita', 'Hp', 'Acer', 'Asus', 'Dell', 'Redmibook',\n",
       "       'Realme', 'Infinix', 'Msi', 'Microsoft', 'Smartron', 'Lg', 'Nokia',\n",
       "       'Apple', 'Vaio', 'Mi', 'Alienware', 'Iball', 'Samsung'],\n",
       "      dtype=object)"
      ]
     },
     "execution_count": 16,
     "metadata": {},
     "output_type": "execute_result"
    }
   ],
   "source": [
    "data_eda.brand.unique()"
   ]
  },
  {
   "cell_type": "markdown",
   "metadata": {},
   "source": [
    "While Performing the EDA we have noticed some issues in the dataset and have done some preprocessing actions in that stage itself .\n",
    "\n",
    "The different preprocessing steps which are already done are -\n",
    "\n",
    "    Capitalizing all the categorical columns inorder to remove duplicated values in columns\n",
    "\n",
    "    Replacing the missing values with NaN."
   ]
  },
  {
   "cell_type": "code",
   "execution_count": 17,
   "metadata": {},
   "outputs": [
    {
     "data": {
      "text/plain": [
       "(876, 23)"
      ]
     },
     "execution_count": 17,
     "metadata": {},
     "output_type": "execute_result"
    }
   ],
   "source": [
    "#Creating a checkpoint\n",
    "temp_data = data_eda.copy()\n",
    "temp_data.shape"
   ]
  },
  {
   "cell_type": "code",
   "execution_count": 18,
   "metadata": {},
   "outputs": [
    {
     "data": {
      "text/plain": [
       "brand                0\n",
       "model               95\n",
       "processor_brand      0\n",
       "processor_name       0\n",
       "processor_gnrtn    238\n",
       "ram_gb               0\n",
       "ram_type             0\n",
       "ssd                  0\n",
       "hdd                  0\n",
       "os                   0\n",
       "os_bit               0\n",
       "graphic_card_gb      0\n",
       "weight               0\n",
       "display_size       328\n",
       "warranty             0\n",
       "Touchscreen          0\n",
       "msoffice             0\n",
       "latest_price         0\n",
       "old_price            0\n",
       "discount             0\n",
       "star_rating          0\n",
       "ratings              0\n",
       "reviews              0\n",
       "dtype: int64"
      ]
     },
     "execution_count": 18,
     "metadata": {},
     "output_type": "execute_result"
    }
   ],
   "source": [
    "temp_data.isnull().sum()"
   ]
  },
  {
   "cell_type": "code",
   "execution_count": 19,
   "metadata": {},
   "outputs": [],
   "source": [
    "def get_numerical_summary(df):\n",
    "    total = temp_data.shape[0]\n",
    "    missing_columns = [\n",
    "        col for col in temp_data.columns\n",
    "        if df[col].isnull().sum() > 0\n",
    "    ]\n",
    "    missing_percent = {}\n",
    "    for col in missing_columns:\n",
    "        null_count = df[col].isnull().sum()\n",
    "        per = (null_count / total) * 100\n",
    "        missing_percent[col] = per\n",
    "    return missing_percent"
   ]
  },
  {
   "cell_type": "code",
   "execution_count": 20,
   "metadata": {},
   "outputs": [
    {
     "data": {
      "text/plain": [
       "{'model': 10.844748858447488,\n",
       " 'processor_gnrtn': 27.168949771689498,\n",
       " 'display_size': 37.44292237442922}"
      ]
     },
     "execution_count": 20,
     "metadata": {},
     "output_type": "execute_result"
    }
   ],
   "source": [
    "get_numerical_summary(temp_data)"
   ]
  },
  {
   "cell_type": "code",
   "execution_count": 21,
   "metadata": {},
   "outputs": [],
   "source": [
    "data_dropped=temp_data.drop(['display_size'],axis=1)"
   ]
  },
  {
   "cell_type": "code",
   "execution_count": 22,
   "metadata": {},
   "outputs": [],
   "source": [
    "data_for_arb_imp=data_dropped.copy()"
   ]
  },
  {
   "cell_type": "code",
   "execution_count": 23,
   "metadata": {},
   "outputs": [],
   "source": [
    "#We can replace these null values with an Arbitrary value \"Unknown\"\n",
    "arb_imputed = data_for_arb_imp.fillna(\"Unknown\")"
   ]
  },
  {
   "cell_type": "markdown",
   "metadata": {},
   "source": [
    "## Categorical Encoding"
   ]
  },
  {
   "cell_type": "code",
   "execution_count": 24,
   "metadata": {},
   "outputs": [],
   "source": [
    "df=arb_imputed.copy()"
   ]
  },
  {
   "cell_type": "markdown",
   "metadata": {},
   "source": [
    "The features like ram_gb,ssd,hdd,os_bit has numerical values in it.\n",
    "\n",
    "So instead of encoding we can directly convert the data type of these columns and provide the same numerical values present in it for modelling ."
   ]
  },
  {
   "cell_type": "code",
   "execution_count": 25,
   "metadata": {},
   "outputs": [
    {
     "name": "stdout",
     "output_type": "stream",
     "text": [
      "<class 'pandas.core.frame.DataFrame'>\n",
      "Index: 876 entries, 0 to 895\n",
      "Data columns (total 22 columns):\n",
      " #   Column           Non-Null Count  Dtype  \n",
      "---  ------           --------------  -----  \n",
      " 0   brand            876 non-null    object \n",
      " 1   model            876 non-null    object \n",
      " 2   processor_brand  876 non-null    object \n",
      " 3   processor_name   876 non-null    object \n",
      " 4   processor_gnrtn  876 non-null    object \n",
      " 5   ram_gb           876 non-null    int64  \n",
      " 6   ram_type         876 non-null    object \n",
      " 7   ssd              876 non-null    int64  \n",
      " 8   hdd              876 non-null    int64  \n",
      " 9   os               876 non-null    object \n",
      " 10  os_bit           876 non-null    int64  \n",
      " 11  graphic_card_gb  876 non-null    int64  \n",
      " 12  weight           876 non-null    object \n",
      " 13  warranty         876 non-null    int64  \n",
      " 14  Touchscreen      876 non-null    object \n",
      " 15  msoffice         876 non-null    object \n",
      " 16  latest_price     876 non-null    int64  \n",
      " 17  old_price        876 non-null    int64  \n",
      " 18  discount         876 non-null    int64  \n",
      " 19  star_rating      876 non-null    float64\n",
      " 20  ratings          876 non-null    int64  \n",
      " 21  reviews          876 non-null    int64  \n",
      "dtypes: float64(1), int64(11), object(10)\n",
      "memory usage: 157.4+ KB\n"
     ]
    }
   ],
   "source": [
    "df['ram_gb']=df['ram_gb'].str.replace('gb','')\n",
    "df['ram_gb']=pd.to_numeric(df['ram_gb'])\n",
    "\n",
    "df['ssd']=df['ssd'].str.replace('gb','')\n",
    "df['ssd']=pd.to_numeric(df['ssd'])\n",
    "\n",
    "df['hdd']=df['hdd'].str.replace('gb','')\n",
    "df['hdd']=pd.to_numeric(df['hdd'])\n",
    "\n",
    "df['os_bit']=df['os_bit'].str.replace('-bit','')\n",
    "df['os_bit']=pd.to_numeric(df['os_bit'])\n",
    "\n",
    "df.info()"
   ]
  },
  {
   "cell_type": "markdown",
   "metadata": {},
   "source": [
    "The nominal categorical features in our dataset are- brand, model, processor_brand, processor_name, os, weight.\n",
    "So let's one hot encode these features."
   ]
  },
  {
   "cell_type": "code",
   "execution_count": 26,
   "metadata": {},
   "outputs": [
    {
     "data": {
      "text/html": [
       "<div>\n",
       "<style scoped>\n",
       "    .dataframe tbody tr th:only-of-type {\n",
       "        vertical-align: middle;\n",
       "    }\n",
       "\n",
       "    .dataframe tbody tr th {\n",
       "        vertical-align: top;\n",
       "    }\n",
       "\n",
       "    .dataframe thead th {\n",
       "        text-align: right;\n",
       "    }\n",
       "</style>\n",
       "<table border=\"1\" class=\"dataframe\">\n",
       "  <thead>\n",
       "    <tr style=\"text-align: right;\">\n",
       "      <th></th>\n",
       "      <th>brand</th>\n",
       "      <th>model</th>\n",
       "      <th>processor_brand</th>\n",
       "      <th>processor_name</th>\n",
       "      <th>os</th>\n",
       "      <th>weight</th>\n",
       "    </tr>\n",
       "  </thead>\n",
       "  <tbody>\n",
       "    <tr>\n",
       "      <th>0</th>\n",
       "      <td>Lenovo</td>\n",
       "      <td>A6-9225</td>\n",
       "      <td>Amd</td>\n",
       "      <td>A6-9225 processor</td>\n",
       "      <td>Windows</td>\n",
       "      <td>Thinnlight</td>\n",
       "    </tr>\n",
       "    <tr>\n",
       "      <th>1</th>\n",
       "      <td>Lenovo</td>\n",
       "      <td>Ideapad</td>\n",
       "      <td>Amd</td>\n",
       "      <td>Apu dual</td>\n",
       "      <td>Windows</td>\n",
       "      <td>Casual</td>\n",
       "    </tr>\n",
       "    <tr>\n",
       "      <th>2</th>\n",
       "      <td>Avita</td>\n",
       "      <td>Pura</td>\n",
       "      <td>Amd</td>\n",
       "      <td>Apu dual</td>\n",
       "      <td>Windows</td>\n",
       "      <td>Thinnlight</td>\n",
       "    </tr>\n",
       "    <tr>\n",
       "      <th>3</th>\n",
       "      <td>Avita</td>\n",
       "      <td>Pura</td>\n",
       "      <td>Amd</td>\n",
       "      <td>Apu dual</td>\n",
       "      <td>Windows</td>\n",
       "      <td>Thinnlight</td>\n",
       "    </tr>\n",
       "    <tr>\n",
       "      <th>4</th>\n",
       "      <td>Avita</td>\n",
       "      <td>Pura</td>\n",
       "      <td>Amd</td>\n",
       "      <td>Apu dual</td>\n",
       "      <td>Windows</td>\n",
       "      <td>Thinnlight</td>\n",
       "    </tr>\n",
       "    <tr>\n",
       "      <th>...</th>\n",
       "      <td>...</td>\n",
       "      <td>...</td>\n",
       "      <td>...</td>\n",
       "      <td>...</td>\n",
       "      <td>...</td>\n",
       "      <td>...</td>\n",
       "    </tr>\n",
       "    <tr>\n",
       "      <th>891</th>\n",
       "      <td>Asus</td>\n",
       "      <td>Rog</td>\n",
       "      <td>Amd</td>\n",
       "      <td>Ryzen 9</td>\n",
       "      <td>Windows</td>\n",
       "      <td>Casual</td>\n",
       "    </tr>\n",
       "    <tr>\n",
       "      <th>892</th>\n",
       "      <td>Asus</td>\n",
       "      <td>Ryzen</td>\n",
       "      <td>Amd</td>\n",
       "      <td>Ryzen 9</td>\n",
       "      <td>Windows</td>\n",
       "      <td>Casual</td>\n",
       "    </tr>\n",
       "    <tr>\n",
       "      <th>893</th>\n",
       "      <td>Asus</td>\n",
       "      <td>Ryzen</td>\n",
       "      <td>Amd</td>\n",
       "      <td>Ryzen 9</td>\n",
       "      <td>Windows</td>\n",
       "      <td>Casual</td>\n",
       "    </tr>\n",
       "    <tr>\n",
       "      <th>894</th>\n",
       "      <td>Samsung</td>\n",
       "      <td>Galaxy</td>\n",
       "      <td>Qualcomm</td>\n",
       "      <td>Snapdragon 7c</td>\n",
       "      <td>Windows</td>\n",
       "      <td>Casual</td>\n",
       "    </tr>\n",
       "    <tr>\n",
       "      <th>895</th>\n",
       "      <td>Lenovo</td>\n",
       "      <td>Thinkpad</td>\n",
       "      <td>Amd</td>\n",
       "      <td>Ryzen 5</td>\n",
       "      <td>Dos</td>\n",
       "      <td>Thinnlight</td>\n",
       "    </tr>\n",
       "  </tbody>\n",
       "</table>\n",
       "<p>876 rows × 6 columns</p>\n",
       "</div>"
      ],
      "text/plain": [
       "       brand     model processor_brand     processor_name       os      weight\n",
       "0     Lenovo   A6-9225             Amd  A6-9225 processor  Windows  Thinnlight\n",
       "1     Lenovo   Ideapad             Amd           Apu dual  Windows      Casual\n",
       "2      Avita      Pura             Amd           Apu dual  Windows  Thinnlight\n",
       "3      Avita      Pura             Amd           Apu dual  Windows  Thinnlight\n",
       "4      Avita      Pura             Amd           Apu dual  Windows  Thinnlight\n",
       "..       ...       ...             ...                ...      ...         ...\n",
       "891     Asus       Rog             Amd            Ryzen 9  Windows      Casual\n",
       "892     Asus     Ryzen             Amd            Ryzen 9  Windows      Casual\n",
       "893     Asus     Ryzen             Amd            Ryzen 9  Windows      Casual\n",
       "894  Samsung    Galaxy        Qualcomm      Snapdragon 7c  Windows      Casual\n",
       "895   Lenovo  Thinkpad             Amd            Ryzen 5      Dos  Thinnlight\n",
       "\n",
       "[876 rows x 6 columns]"
      ]
     },
     "execution_count": 26,
     "metadata": {},
     "output_type": "execute_result"
    }
   ],
   "source": [
    "#Let's create a dataframe for these nominal categorical features\n",
    "df_nominal=df[['brand','model','processor_brand','processor_name','os','weight']].copy()\n",
    "df_nominal"
   ]
  },
  {
   "cell_type": "code",
   "execution_count": 27,
   "metadata": {},
   "outputs": [
    {
     "data": {
      "text/plain": [
       "array(['brand_Acer', 'brand_Alienware', 'brand_Apple', 'brand_Asus',\n",
       "       'brand_Avita', 'brand_Dell', 'brand_Hp', 'brand_Iball',\n",
       "       'brand_Infinix', 'brand_Lenovo', 'brand_Lg', 'brand_Mi',\n",
       "       'brand_Microsoft', 'brand_Msi', 'brand_Nokia', 'brand_Realme',\n",
       "       'brand_Redmibook', 'brand_Samsung', 'brand_Smartron', 'brand_Vaio',\n",
       "       'model_14a', 'model_14s', 'model_15', 'model_15-ec1105ax',\n",
       "       'model_15q', 'model_15s', 'model_250', 'model_250-g6',\n",
       "       'model_3000', 'model_3511', 'model_430', 'model_A6-9225',\n",
       "       'model_Alpha', 'model_Amd', 'model_Apu', 'model_Aspire',\n",
       "       'model_Asus', 'model_Athlon', 'model_B50-70', 'model_Book',\n",
       "       'model_Book(slim)', 'model_Bravo', 'model_Celeron',\n",
       "       'model_Chromebook', 'model_Commercial', 'model_Compbook',\n",
       "       'model_Conceptd', 'model_Cosmos', 'model_Creator', 'model_Da',\n",
       "       'model_Dell', 'model_Delta', 'model_Dual', 'model_E',\n",
       "       'model_Eeebook', 'model_Envy', 'model_Expertbook', 'model_Extensa',\n",
       "       'model_F17', 'model_G15', 'model_G3', 'model_G5', 'model_G7',\n",
       "       'model_Galaxy', 'model_Gaming', 'model_Ge76', 'model_Gf63',\n",
       "       'model_Gf65', 'model_Gp65', 'model_Gp76', 'model_Gram', 'model_Gs',\n",
       "       'model_Gs66', 'model_Hp', 'model_Ideapad', 'model_Inbook',\n",
       "       'model_Inpiron', 'model_Inspiron', 'model_Insprion', 'model_Intel',\n",
       "       'model_Katana', 'model_Legion', 'model_Lenovo', 'model_Liber',\n",
       "       'model_Macbook', 'model_Modern', 'model_Nitro', 'model_Notebook',\n",
       "       'model_Omen', 'model_Pavilion', 'model_Pentium', 'model_Predator',\n",
       "       'model_Prestige', 'model_Pro', 'model_Pulse', 'model_Pura',\n",
       "       'model_Purebook', 'model_Rog', 'model_Ryzen', 'model_Se',\n",
       "       'model_Spectre', 'model_Spin', 'model_Stealth', 'model_Summit',\n",
       "       'model_Surface', 'model_Swift', 'model_Sword', 'model_T.book',\n",
       "       'model_Thinkbook', 'model_Thinkpad', 'model_Thinpad',\n",
       "       'model_Travelmate', 'model_Tuf', 'model_Unknown', 'model_V15',\n",
       "       'model_Vivo', 'model_Vivobook', 'model_Vivobook14', 'model_Vostro',\n",
       "       'model_Wf65', 'model_X1', 'model_X360', 'model_X390', 'model_Xps',\n",
       "       'model_Yoga', 'model_Zenbook', 'model_Zephyrus',\n",
       "       'processor_brand_Amd', 'processor_brand_Intel',\n",
       "       'processor_brand_M1', 'processor_brand_Mediatek',\n",
       "       'processor_brand_Qualcomm', 'processor_name_A6-9225 processor',\n",
       "       'processor_name_Apu dual', 'processor_name_Athlon dual',\n",
       "       'processor_name_Celeron dual', 'processor_name_Core',\n",
       "       'processor_name_Core i3', 'processor_name_Core i5',\n",
       "       'processor_name_Core i7', 'processor_name_Core i9',\n",
       "       'processor_name_Core m3', 'processor_name_Dual core',\n",
       "       'processor_name_Ever screenpad', 'processor_name_Geforce gtx',\n",
       "       'processor_name_Geforce rtx', 'processor_name_Genuine windows',\n",
       "       'processor_name_Hexa core', 'processor_name_M1',\n",
       "       'processor_name_Mediatek kompanio', 'processor_name_Pentium quad',\n",
       "       'processor_name_Pentium silver', 'processor_name_Quad',\n",
       "       'processor_name_Ryzen', 'processor_name_Ryzen 3',\n",
       "       'processor_name_Ryzen 5', 'processor_name_Ryzen 7',\n",
       "       'processor_name_Ryzen 9', 'processor_name_Snapdragon 7c', 'os_Dos',\n",
       "       'os_Mac', 'os_Windows', 'weight_Casual', 'weight_Gaming',\n",
       "       'weight_Thinnlight'], dtype=object)"
      ]
     },
     "execution_count": 27,
     "metadata": {},
     "output_type": "execute_result"
    }
   ],
   "source": [
    "dummy_Data=pd.get_dummies(df_nominal)\n",
    "dummy_Data.columns.values"
   ]
  },
  {
   "cell_type": "code",
   "execution_count": 28,
   "metadata": {},
   "outputs": [
    {
     "data": {
      "text/plain": [
       "(876, 165)"
      ]
     },
     "execution_count": 28,
     "metadata": {},
     "output_type": "execute_result"
    }
   ],
   "source": [
    "#Shape of one hot encoded features\n",
    "dummy_Data.shape"
   ]
  },
  {
   "cell_type": "code",
   "execution_count": 29,
   "metadata": {},
   "outputs": [],
   "source": [
    "#Concatenating the one hot encoded dummy dataset to the original dataset.\n",
    "df2 = pd.concat([df,dummy_Data], axis=1)\n",
    "# df2"
   ]
  },
  {
   "cell_type": "code",
   "execution_count": 30,
   "metadata": {},
   "outputs": [],
   "source": [
    "#Removing the original features since we have created their dummy features.\n",
    "df = df2.drop(['brand','model','processor_brand','processor_name','os','weight'], axis=1)"
   ]
  },
  {
   "cell_type": "code",
   "execution_count": 31,
   "metadata": {},
   "outputs": [
    {
     "data": {
      "text/plain": [
       "array(['processor_gnrtn', 'ram_gb', 'ram_type', 'ssd', 'hdd', 'os_bit',\n",
       "       'graphic_card_gb', 'warranty', 'Touchscreen', 'msoffice',\n",
       "       'latest_price', 'old_price', 'discount', 'star_rating', 'ratings',\n",
       "       'reviews', 'brand_Acer', 'brand_Alienware', 'brand_Apple',\n",
       "       'brand_Asus', 'brand_Avita', 'brand_Dell', 'brand_Hp',\n",
       "       'brand_Iball', 'brand_Infinix', 'brand_Lenovo', 'brand_Lg',\n",
       "       'brand_Mi', 'brand_Microsoft', 'brand_Msi', 'brand_Nokia',\n",
       "       'brand_Realme', 'brand_Redmibook', 'brand_Samsung',\n",
       "       'brand_Smartron', 'brand_Vaio', 'model_14a', 'model_14s',\n",
       "       'model_15', 'model_15-ec1105ax', 'model_15q', 'model_15s',\n",
       "       'model_250', 'model_250-g6', 'model_3000', 'model_3511',\n",
       "       'model_430', 'model_A6-9225', 'model_Alpha', 'model_Amd',\n",
       "       'model_Apu', 'model_Aspire', 'model_Asus', 'model_Athlon',\n",
       "       'model_B50-70', 'model_Book', 'model_Book(slim)', 'model_Bravo',\n",
       "       'model_Celeron', 'model_Chromebook', 'model_Commercial',\n",
       "       'model_Compbook', 'model_Conceptd', 'model_Cosmos',\n",
       "       'model_Creator', 'model_Da', 'model_Dell', 'model_Delta',\n",
       "       'model_Dual', 'model_E', 'model_Eeebook', 'model_Envy',\n",
       "       'model_Expertbook', 'model_Extensa', 'model_F17', 'model_G15',\n",
       "       'model_G3', 'model_G5', 'model_G7', 'model_Galaxy', 'model_Gaming',\n",
       "       'model_Ge76', 'model_Gf63', 'model_Gf65', 'model_Gp65',\n",
       "       'model_Gp76', 'model_Gram', 'model_Gs', 'model_Gs66', 'model_Hp',\n",
       "       'model_Ideapad', 'model_Inbook', 'model_Inpiron', 'model_Inspiron',\n",
       "       'model_Insprion', 'model_Intel', 'model_Katana', 'model_Legion',\n",
       "       'model_Lenovo', 'model_Liber', 'model_Macbook', 'model_Modern',\n",
       "       'model_Nitro', 'model_Notebook', 'model_Omen', 'model_Pavilion',\n",
       "       'model_Pentium', 'model_Predator', 'model_Prestige', 'model_Pro',\n",
       "       'model_Pulse', 'model_Pura', 'model_Purebook', 'model_Rog',\n",
       "       'model_Ryzen', 'model_Se', 'model_Spectre', 'model_Spin',\n",
       "       'model_Stealth', 'model_Summit', 'model_Surface', 'model_Swift',\n",
       "       'model_Sword', 'model_T.book', 'model_Thinkbook', 'model_Thinkpad',\n",
       "       'model_Thinpad', 'model_Travelmate', 'model_Tuf', 'model_Unknown',\n",
       "       'model_V15', 'model_Vivo', 'model_Vivobook', 'model_Vivobook14',\n",
       "       'model_Vostro', 'model_Wf65', 'model_X1', 'model_X360',\n",
       "       'model_X390', 'model_Xps', 'model_Yoga', 'model_Zenbook',\n",
       "       'model_Zephyrus', 'processor_brand_Amd', 'processor_brand_Intel',\n",
       "       'processor_brand_M1', 'processor_brand_Mediatek',\n",
       "       'processor_brand_Qualcomm', 'processor_name_A6-9225 processor',\n",
       "       'processor_name_Apu dual', 'processor_name_Athlon dual',\n",
       "       'processor_name_Celeron dual', 'processor_name_Core',\n",
       "       'processor_name_Core i3', 'processor_name_Core i5',\n",
       "       'processor_name_Core i7', 'processor_name_Core i9',\n",
       "       'processor_name_Core m3', 'processor_name_Dual core',\n",
       "       'processor_name_Ever screenpad', 'processor_name_Geforce gtx',\n",
       "       'processor_name_Geforce rtx', 'processor_name_Genuine windows',\n",
       "       'processor_name_Hexa core', 'processor_name_M1',\n",
       "       'processor_name_Mediatek kompanio', 'processor_name_Pentium quad',\n",
       "       'processor_name_Pentium silver', 'processor_name_Quad',\n",
       "       'processor_name_Ryzen', 'processor_name_Ryzen 3',\n",
       "       'processor_name_Ryzen 5', 'processor_name_Ryzen 7',\n",
       "       'processor_name_Ryzen 9', 'processor_name_Snapdragon 7c', 'os_Dos',\n",
       "       'os_Mac', 'os_Windows', 'weight_Casual', 'weight_Gaming',\n",
       "       'weight_Thinnlight'], dtype=object)"
      ]
     },
     "execution_count": 31,
     "metadata": {},
     "output_type": "execute_result"
    }
   ],
   "source": [
    "#Viewing the columns\n",
    "df.columns.values"
   ]
  },
  {
   "cell_type": "code",
   "execution_count": 32,
   "metadata": {},
   "outputs": [],
   "source": [
    "#Now, let's do custom mapping of the ordinal features based upon some domain factors.\n",
    "#The ordinal features are processor_gnrtn,ram_type,Touchscreen,msoffice             \n",
    "\n",
    "custom_mapping={'processor_gnrtn':{'4th':0,'7th':1,'8th':2,'Unknown':3,'9th':4,'10th':5,'11th':6,'12th':7},\n",
    "                'ram_type':{'Ddr3':0,'Lpddr3':1,'Ddr4':2,'Lpddr4':3,'Lpddr4x':4,'Ddr5':5},\n",
    "               'Touchscreen':{'No':0,'Yes':1},\n",
    "                'msoffice':{'No':0,'Yes':1}}\n",
    "df.replace(custom_mapping,inplace=True)\n",
    "# df"
   ]
  },
  {
   "cell_type": "code",
   "execution_count": 33,
   "metadata": {},
   "outputs": [],
   "source": [
    "processed_data=df.copy()"
   ]
  },
  {
   "cell_type": "code",
   "execution_count": 34,
   "metadata": {},
   "outputs": [
    {
     "data": {
      "text/plain": [
       "(876, 181)"
      ]
     },
     "execution_count": 34,
     "metadata": {},
     "output_type": "execute_result"
    }
   ],
   "source": [
    "processed_data.shape"
   ]
  },
  {
   "cell_type": "markdown",
   "metadata": {},
   "source": [
    "# 3. Linear Regression Models\n"
   ]
  },
  {
   "cell_type": "code",
   "execution_count": 35,
   "metadata": {},
   "outputs": [],
   "source": [
    "processed_df=processed_data.copy()"
   ]
  },
  {
   "cell_type": "code",
   "execution_count": 36,
   "metadata": {},
   "outputs": [],
   "source": [
    "# Let's transform 'latest_price' with a log transformation\n",
    "X = processed_df['latest_price']\n",
    "\n",
    "# The inputs are everything but the dependent variable, so we can simply drop it\n",
    "y = processed_df.drop(['latest_price'],axis=1)"
   ]
  },
  {
   "cell_type": "markdown",
   "metadata": {},
   "source": [
    "## 1. Simple Linear Regression after log transforming of the target variable  "
   ]
  },
  {
   "cell_type": "code",
   "execution_count": 37,
   "metadata": {},
   "outputs": [],
   "source": [
    "# Let's transform 'latest_price' with a log transformation\n",
    "targets = np.log(X)\n",
    "\n",
    "inputs = y"
   ]
  },
  {
   "cell_type": "code",
   "execution_count": 38,
   "metadata": {},
   "outputs": [],
   "source": [
    "# inputs.columns.values"
   ]
  },
  {
   "cell_type": "code",
   "execution_count": 39,
   "metadata": {},
   "outputs": [
    {
     "data": {
      "text/plain": [
       "((876,), (876, 180))"
      ]
     },
     "execution_count": 39,
     "metadata": {},
     "output_type": "execute_result"
    }
   ],
   "source": [
    "#Viewing the targets and inputs shape\n",
    "targets.shape, inputs.shape"
   ]
  },
  {
   "cell_type": "markdown",
   "metadata": {},
   "source": [
    "## Train - Test Split"
   ]
  },
  {
   "cell_type": "code",
   "execution_count": 40,
   "metadata": {},
   "outputs": [],
   "source": [
    "# Import the module for the split\n",
    "from sklearn.model_selection import train_test_split\n",
    "\n",
    "# Split the variables with an 75-25 split and some random state\n",
    "x_train, x_test, y_train, y_test = train_test_split(inputs, targets, test_size=0.25, random_state=42)"
   ]
  },
  {
   "cell_type": "code",
   "execution_count": 41,
   "metadata": {},
   "outputs": [
    {
     "data": {
      "text/html": [
       "<style>#sk-container-id-1 {color: black;background-color: white;}#sk-container-id-1 pre{padding: 0;}#sk-container-id-1 div.sk-toggleable {background-color: white;}#sk-container-id-1 label.sk-toggleable__label {cursor: pointer;display: block;width: 100%;margin-bottom: 0;padding: 0.3em;box-sizing: border-box;text-align: center;}#sk-container-id-1 label.sk-toggleable__label-arrow:before {content: \"▸\";float: left;margin-right: 0.25em;color: #696969;}#sk-container-id-1 label.sk-toggleable__label-arrow:hover:before {color: black;}#sk-container-id-1 div.sk-estimator:hover label.sk-toggleable__label-arrow:before {color: black;}#sk-container-id-1 div.sk-toggleable__content {max-height: 0;max-width: 0;overflow: hidden;text-align: left;background-color: #f0f8ff;}#sk-container-id-1 div.sk-toggleable__content pre {margin: 0.2em;color: black;border-radius: 0.25em;background-color: #f0f8ff;}#sk-container-id-1 input.sk-toggleable__control:checked~div.sk-toggleable__content {max-height: 200px;max-width: 100%;overflow: auto;}#sk-container-id-1 input.sk-toggleable__control:checked~label.sk-toggleable__label-arrow:before {content: \"▾\";}#sk-container-id-1 div.sk-estimator input.sk-toggleable__control:checked~label.sk-toggleable__label {background-color: #d4ebff;}#sk-container-id-1 div.sk-label input.sk-toggleable__control:checked~label.sk-toggleable__label {background-color: #d4ebff;}#sk-container-id-1 input.sk-hidden--visually {border: 0;clip: rect(1px 1px 1px 1px);clip: rect(1px, 1px, 1px, 1px);height: 1px;margin: -1px;overflow: hidden;padding: 0;position: absolute;width: 1px;}#sk-container-id-1 div.sk-estimator {font-family: monospace;background-color: #f0f8ff;border: 1px dotted black;border-radius: 0.25em;box-sizing: border-box;margin-bottom: 0.5em;}#sk-container-id-1 div.sk-estimator:hover {background-color: #d4ebff;}#sk-container-id-1 div.sk-parallel-item::after {content: \"\";width: 100%;border-bottom: 1px solid gray;flex-grow: 1;}#sk-container-id-1 div.sk-label:hover label.sk-toggleable__label {background-color: #d4ebff;}#sk-container-id-1 div.sk-serial::before {content: \"\";position: absolute;border-left: 1px solid gray;box-sizing: border-box;top: 0;bottom: 0;left: 50%;z-index: 0;}#sk-container-id-1 div.sk-serial {display: flex;flex-direction: column;align-items: center;background-color: white;padding-right: 0.2em;padding-left: 0.2em;position: relative;}#sk-container-id-1 div.sk-item {position: relative;z-index: 1;}#sk-container-id-1 div.sk-parallel {display: flex;align-items: stretch;justify-content: center;background-color: white;position: relative;}#sk-container-id-1 div.sk-item::before, #sk-container-id-1 div.sk-parallel-item::before {content: \"\";position: absolute;border-left: 1px solid gray;box-sizing: border-box;top: 0;bottom: 0;left: 50%;z-index: -1;}#sk-container-id-1 div.sk-parallel-item {display: flex;flex-direction: column;z-index: 1;position: relative;background-color: white;}#sk-container-id-1 div.sk-parallel-item:first-child::after {align-self: flex-end;width: 50%;}#sk-container-id-1 div.sk-parallel-item:last-child::after {align-self: flex-start;width: 50%;}#sk-container-id-1 div.sk-parallel-item:only-child::after {width: 0;}#sk-container-id-1 div.sk-dashed-wrapped {border: 1px dashed gray;margin: 0 0.4em 0.5em 0.4em;box-sizing: border-box;padding-bottom: 0.4em;background-color: white;}#sk-container-id-1 div.sk-label label {font-family: monospace;font-weight: bold;display: inline-block;line-height: 1.2em;}#sk-container-id-1 div.sk-label-container {text-align: center;}#sk-container-id-1 div.sk-container {/* jupyter's `normalize.less` sets `[hidden] { display: none; }` but bootstrap.min.css set `[hidden] { display: none !important; }` so we also need the `!important` here to be able to override the default hidden behavior on the sphinx rendered scikit-learn.org. See: https://github.com/scikit-learn/scikit-learn/issues/21755 */display: inline-block !important;position: relative;}#sk-container-id-1 div.sk-text-repr-fallback {display: none;}</style><div id=\"sk-container-id-1\" class=\"sk-top-container\"><div class=\"sk-text-repr-fallback\"><pre>LinearRegression()</pre><b>In a Jupyter environment, please rerun this cell to show the HTML representation or trust the notebook. <br />On GitHub, the HTML representation is unable to render, please try loading this page with nbviewer.org.</b></div><div class=\"sk-container\" hidden><div class=\"sk-item\"><div class=\"sk-estimator sk-toggleable\"><input class=\"sk-toggleable__control sk-hidden--visually\" id=\"sk-estimator-id-1\" type=\"checkbox\" checked><label for=\"sk-estimator-id-1\" class=\"sk-toggleable__label sk-toggleable__label-arrow\">LinearRegression</label><div class=\"sk-toggleable__content\"><pre>LinearRegression()</pre></div></div></div></div></div>"
      ],
      "text/plain": [
       "LinearRegression()"
      ]
     },
     "execution_count": 41,
     "metadata": {},
     "output_type": "execute_result"
    }
   ],
   "source": [
    "from sklearn.linear_model import LinearRegression\n",
    "\n",
    "lr=LinearRegression()\n",
    "# Fit the regression with the TRAIN inputs and targets\n",
    "lr.fit(x_train,y_train)"
   ]
  },
  {
   "cell_type": "code",
   "execution_count": 42,
   "metadata": {},
   "outputs": [
    {
     "data": {
      "image/png": "[encoded data removed]",
      "text/plain": [
       "<Figure size 640x480 with 1 Axes>"
      ]
     },
     "metadata": {},
     "output_type": "display_data"
    }
   ],
   "source": [
    "# Let's check the outputs of the regression\n",
    "y_pred = lr.predict(x_train)\n",
    "\n",
    "# The simplest way to compare the targets (y_train) and the predictions (y_hat) is to plot them on a scatter plot\n",
    "# The closer the points to the 45-degree line, the better the prediction\n",
    "plt.scatter(y_train, y_pred)\n",
    "# Let's also name the axes\n",
    "plt.xlabel('Targets (y_train)',size=18)\n",
    "plt.ylabel('Predictions (y_hat)',size=18)\n",
    "plt.show()"
   ]
  },
  {
   "cell_type": "code",
   "execution_count": 43,
   "metadata": {},
   "outputs": [
    {
     "name": "stderr",
     "output_type": "stream",
     "text": [
      "/tmp/ipykernel_6242/3812493462.py:3: UserWarning: \n",
      "\n",
      "`distplot` is a deprecated function and will be removed in seaborn v0.14.0.\n",
      "\n",
      "Please adapt your code to use either `displot` (a figure-level function with\n",
      "similar flexibility) or `histplot` (an axes-level function for histograms).\n",
      "\n",
      "For a guide to updating your code to use the new functions, please see\n",
      "https://gist.github.com/mwaskom/de44147ed2974457ad6372750bbe5751\n",
      "\n",
      "  sns.distplot(y_train - y_pred)\n"
     ]
    },
    {
     "data": {
      "text/plain": [
       "Text(0.5, 1.0, 'Residuals PDF')"
      ]
     },
     "execution_count": 43,
     "metadata": {},
     "output_type": "execute_result"
    },
    {
     "data": {
      "image/png": "[encoded data removed]",
      "text/plain": [
       "<Figure size 640x480 with 1 Axes>"
      ]
     },
     "metadata": {},
     "output_type": "display_data"
    }
   ],
   "source": [
    "# Another useful check of our model is a residual plot\n",
    "# We can plot the PDF of the residuals and check for anomalies\n",
    "sns.distplot(y_train - y_pred)\n",
    "\n",
    "# Include a title\n",
    "plt.title(\"Residuals PDF\", size=18)\n",
    "\n",
    "# In the best case scenario this plot should be normally distributed"
   ]
  },
  {
   "cell_type": "code",
   "execution_count": 44,
   "metadata": {},
   "outputs": [
    {
     "data": {
      "text/plain": [
       "0.9499421736568339"
      ]
     },
     "execution_count": 44,
     "metadata": {},
     "output_type": "execute_result"
    }
   ],
   "source": [
    "lr.score(x_train, y_train)"
   ]
  },
  {
   "cell_type": "code",
   "execution_count": 45,
   "metadata": {},
   "outputs": [],
   "source": [
    "# Once we have trained and fine-tuned our model, we can proceed to testing it\n",
    "# Testing is done on a dataset that the algorithm has never seen\n",
    "# Our test inputs are 'x_test', while the outputs: 'y_test'\n",
    "y_hat_test = lr.predict(x_test)"
   ]
  },
  {
   "cell_type": "code",
   "execution_count": 46,
   "metadata": {},
   "outputs": [
    {
     "data": {
      "image/png": "[encoded data removed]",
      "text/plain": [
       "<Figure size 640x480 with 1 Axes>"
      ]
     },
     "metadata": {},
     "output_type": "display_data"
    }
   ],
   "source": [
    "# Create a scatter plot with the test targets and the test predictions\n",
    "# You can include the argument 'alpha' which will introduce opacity to the graph\n",
    "plt.scatter(y_test, y_hat_test, alpha=0.2)\n",
    "plt.xlabel('Targets (y_test)',size=18)\n",
    "plt.ylabel('Predictions (y_hat_test)',size=18)\n",
    "plt.show()"
   ]
  },
  {
   "cell_type": "code",
   "execution_count": 47,
   "metadata": {},
   "outputs": [
    {
     "data": {
      "text/plain": [
       "0.9094017103788405"
      ]
     },
     "execution_count": 47,
     "metadata": {},
     "output_type": "execute_result"
    }
   ],
   "source": [
    "#Find the R-squared of the model predictions\n",
    "lr.score(x_test,y_test)"
   ]
  },
  {
   "cell_type": "code",
   "execution_count": 48,
   "metadata": {},
   "outputs": [
    {
     "name": "stdout",
     "output_type": "stream",
     "text": [
      "R2 score: 0.91\n",
      "MAE :  0.10313801151809042\n"
     ]
    }
   ],
   "source": [
    "from sklearn.metrics import mean_absolute_error\n",
    "from sklearn.metrics import r2_score\n",
    "#printing the r2 score and mean absolute error\n",
    "print(\"R2 score: %.2f\"%(r2_score(y_test,y_hat_test)))\n",
    "mae = mean_absolute_error(y_test, y_hat_test)\n",
    "print(\"MAE : \", mae)"
   ]
  },
  {
   "cell_type": "code",
   "execution_count": 49,
   "metadata": {},
   "outputs": [
    {
     "data": {
      "text/html": [
       "<div>\n",
       "<style scoped>\n",
       "    .dataframe tbody tr th:only-of-type {\n",
       "        vertical-align: middle;\n",
       "    }\n",
       "\n",
       "    .dataframe tbody tr th {\n",
       "        vertical-align: top;\n",
       "    }\n",
       "\n",
       "    .dataframe thead th {\n",
       "        text-align: right;\n",
       "    }\n",
       "</style>\n",
       "<table border=\"1\" class=\"dataframe\">\n",
       "  <thead>\n",
       "    <tr style=\"text-align: right;\">\n",
       "      <th></th>\n",
       "      <th>Prediction</th>\n",
       "      <th>Target</th>\n",
       "      <th>Residual</th>\n",
       "      <th>Difference%</th>\n",
       "    </tr>\n",
       "  </thead>\n",
       "  <tbody>\n",
       "    <tr>\n",
       "      <th>171</th>\n",
       "      <td>83017.76</td>\n",
       "      <td>82990.00</td>\n",
       "      <td>-27.76</td>\n",
       "      <td>0.03</td>\n",
       "    </tr>\n",
       "    <tr>\n",
       "      <th>33</th>\n",
       "      <td>100894.65</td>\n",
       "      <td>100990.00</td>\n",
       "      <td>95.35</td>\n",
       "      <td>0.09</td>\n",
       "    </tr>\n",
       "    <tr>\n",
       "      <th>39</th>\n",
       "      <td>95144.12</td>\n",
       "      <td>94990.00</td>\n",
       "      <td>-154.12</td>\n",
       "      <td>0.16</td>\n",
       "    </tr>\n",
       "    <tr>\n",
       "      <th>161</th>\n",
       "      <td>140428.96</td>\n",
       "      <td>139990.00</td>\n",
       "      <td>-438.96</td>\n",
       "      <td>0.31</td>\n",
       "    </tr>\n",
       "    <tr>\n",
       "      <th>172</th>\n",
       "      <td>64190.69</td>\n",
       "      <td>63990.00</td>\n",
       "      <td>-200.69</td>\n",
       "      <td>0.31</td>\n",
       "    </tr>\n",
       "    <tr>\n",
       "      <th>...</th>\n",
       "      <td>...</td>\n",
       "      <td>...</td>\n",
       "      <td>...</td>\n",
       "      <td>...</td>\n",
       "    </tr>\n",
       "    <tr>\n",
       "      <th>143</th>\n",
       "      <td>82122.52</td>\n",
       "      <td>145990.00</td>\n",
       "      <td>63867.48</td>\n",
       "      <td>43.75</td>\n",
       "    </tr>\n",
       "    <tr>\n",
       "      <th>136</th>\n",
       "      <td>52579.87</td>\n",
       "      <td>99990.00</td>\n",
       "      <td>47410.13</td>\n",
       "      <td>47.41</td>\n",
       "    </tr>\n",
       "    <tr>\n",
       "      <th>83</th>\n",
       "      <td>122780.73</td>\n",
       "      <td>239759.00</td>\n",
       "      <td>116978.27</td>\n",
       "      <td>48.79</td>\n",
       "    </tr>\n",
       "    <tr>\n",
       "      <th>208</th>\n",
       "      <td>119601.45</td>\n",
       "      <td>77890.00</td>\n",
       "      <td>-41711.45</td>\n",
       "      <td>53.55</td>\n",
       "    </tr>\n",
       "    <tr>\n",
       "      <th>218</th>\n",
       "      <td>139854.22</td>\n",
       "      <td>81490.00</td>\n",
       "      <td>-58364.22</td>\n",
       "      <td>71.62</td>\n",
       "    </tr>\n",
       "  </tbody>\n",
       "</table>\n",
       "<p>219 rows × 4 columns</p>\n",
       "</div>"
      ],
      "text/plain": [
       "     Prediction    Target  Residual  Difference%\n",
       "171    83017.76  82990.00    -27.76         0.03\n",
       "33    100894.65 100990.00     95.35         0.09\n",
       "39     95144.12  94990.00   -154.12         0.16\n",
       "161   140428.96 139990.00   -438.96         0.31\n",
       "172    64190.69  63990.00   -200.69         0.31\n",
       "..          ...       ...       ...          ...\n",
       "143    82122.52 145990.00  63867.48        43.75\n",
       "136    52579.87  99990.00  47410.13        47.41\n",
       "83    122780.73 239759.00 116978.27        48.79\n",
       "208   119601.45  77890.00 -41711.45        53.55\n",
       "218   139854.22  81490.00 -58364.22        71.62\n",
       "\n",
       "[219 rows x 4 columns]"
      ]
     },
     "execution_count": 49,
     "metadata": {},
     "output_type": "execute_result"
    }
   ],
   "source": [
    "y_test = y_test.reset_index(drop=True)\n",
    "# Finally, let's manually check these predictions by creating a dataframe\n",
    "# To obtain the actual prices, we take the exponential of the log_price\n",
    "df = pd.DataFrame(np.exp(y_hat_test), columns=['Prediction'])\n",
    "df['Target'] = np.exp(y_test)\n",
    "# Additionally, we can calculate the difference between the targets and the predictions\n",
    "df['Residual'] = df['Target'] - df['Prediction']\n",
    "# Here, we take the absolute difference in %, so we can easily order the data frame\n",
    "df['Difference%'] = np.absolute(df['Residual']/df['Target']*100)\n",
    "# Moreover, to make the dataset clear, we can display the result with only 2 digits after the dot\n",
    "pd.set_option('display.float_format', lambda x: '%.2f' % x)\n",
    "# Finally, we sort by difference in % and manually check the model\n",
    "df.sort_values(by=['Difference%'])"
   ]
  },
  {
   "cell_type": "markdown",
   "metadata": {},
   "source": [
    "## 2. Linear Regression after splitting the sample using KFold"
   ]
  },
  {
   "cell_type": "code",
   "execution_count": 54,
   "metadata": {},
   "outputs": [],
   "source": [
    "X = processed_df.drop('latest_price', axis=1)\n",
    "y = processed_df.latest_price"
   ]
  },
  {
   "cell_type": "code",
   "execution_count": 55,
   "metadata": {},
   "outputs": [
    {
     "data": {
      "text/plain": [
       "0       24990\n",
       "1       19590\n",
       "2       19990\n",
       "3       21490\n",
       "4       24990\n",
       "        ...  \n",
       "891    144990\n",
       "892    149990\n",
       "893    142990\n",
       "894     38990\n",
       "895     57490\n",
       "Name: latest_price, Length: 876, dtype: int64"
      ]
     },
     "execution_count": 55,
     "metadata": {},
     "output_type": "execute_result"
    }
   ],
   "source": [
    "y"
   ]
  },
  {
   "cell_type": "code",
   "execution_count": 56,
   "metadata": {},
   "outputs": [
    {
     "data": {
      "text/plain": [
       "((876, 180), (876,))"
      ]
     },
     "execution_count": 56,
     "metadata": {},
     "output_type": "execute_result"
    }
   ],
   "source": [
    "X.shape , y.shape"
   ]
  },
  {
   "cell_type": "code",
   "execution_count": 57,
   "metadata": {},
   "outputs": [],
   "source": [
    "# y = y.values.reshape((876, 1))"
   ]
  },
  {
   "cell_type": "code",
   "execution_count": 58,
   "metadata": {},
   "outputs": [],
   "source": [
    "kf = KFold(shuffle=True, random_state=72018, n_splits=3)"
   ]
  },
  {
   "cell_type": "code",
   "execution_count": 59,
   "metadata": {},
   "outputs": [
    {
     "name": "stdout",
     "output_type": "stream",
     "text": [
      "Train index: [ 2  3  5  7  8  9 10 11 13 14] 584\n",
      "Test index: [ 0  1  4  6 12 16 17 23 25 26] 292\n",
      "\n",
      "Train index: [ 0  1  3  4  5  6  7  8 10 11] 584\n",
      "Test index: [ 2  9 15 19 24 27 29 30 31 34] 292\n",
      "\n",
      "Train index: [ 0  1  2  4  6  9 12 15 16 17] 584\n",
      "Test index: [ 3  5  7  8 10 11 13 14 18 20] 292\n",
      "\n"
     ]
    }
   ],
   "source": [
    "for train_index, test_index in kf.split(X):\n",
    "    print(\"Train index:\", train_index[:10], len(train_index))\n",
    "    print(\"Test index:\",test_index[:10], len(test_index))\n",
    "    print('')"
   ]
  },
  {
   "cell_type": "code",
   "execution_count": 60,
   "metadata": {},
   "outputs": [],
   "source": [
    "#from sklearn.metrics import r2_score, mean_squared_error\n",
    "\n",
    "scores = []\n",
    "lr = LinearRegression()\n",
    "s = StandardScaler()"
   ]
  },
  {
   "cell_type": "code",
   "execution_count": 61,
   "metadata": {},
   "outputs": [],
   "source": [
    "for train_index, test_index in kf.split(X):\n",
    "    X_train, X_test = X.iloc[train_index], X.iloc[test_index]\n",
    "    y_train, y_test = y.reset_index(drop=True).iloc[train_index], y.reset_index(drop=True).iloc[test_index]\n",
    "    \n",
    "    lr.fit(X_train, y_train)\n",
    "        \n",
    "    y_pred = lr.predict(X_test)\n",
    "\n",
    "    score = r2_score(y_test.values, y_pred)\n",
    "    \n",
    "    scores.append(score)\n",
    "    \n",
    "# scores"
   ]
  },
  {
   "cell_type": "markdown",
   "metadata": {},
   "source": [
    "## Using Pipelines"
   ]
  },
  {
   "cell_type": "code",
   "execution_count": 62,
   "metadata": {},
   "outputs": [],
   "source": [
    "estimator = Pipeline([(\"scaler\", s),\n",
    "                      (\"regression\", lr)])"
   ]
  },
  {
   "cell_type": "code",
   "execution_count": 63,
   "metadata": {},
   "outputs": [],
   "source": [
    "predictions = cross_val_predict(estimator, X, y, cv=kf)"
   ]
  },
  {
   "cell_type": "code",
   "execution_count": 64,
   "metadata": {},
   "outputs": [
    {
     "data": {
      "text/plain": [
       "-3.7964997470675886e+25"
      ]
     },
     "execution_count": 64,
     "metadata": {},
     "output_type": "execute_result"
    }
   ],
   "source": [
    "r2_score(y, predictions)"
   ]
  },
  {
   "cell_type": "code",
   "execution_count": 65,
   "metadata": {},
   "outputs": [],
   "source": [
    "# print(lr.coef_)"
   ]
  },
  {
   "cell_type": "code",
   "execution_count": 66,
   "metadata": {},
   "outputs": [
    {
     "data": {
      "text/plain": [
       "array([100.        , 106.81571705, 114.09597408, 121.87243284,\n",
       "       130.17891302, 139.05153939, 148.52889886, 158.65220835,\n",
       "       169.46549396, 181.01578252, 193.35330607, 206.53172031,\n",
       "       220.60833798, 235.64437808, 251.70523213, 268.86074855,\n",
       "       287.18553642, 306.75928998, 327.66713521, 350.        ])"
      ]
     },
     "execution_count": 66,
     "metadata": {},
     "output_type": "execute_result"
    }
   ],
   "source": [
    "alphas = np.geomspace(100, 350, num=20)\n",
    "alphas"
   ]
  },
  {
   "cell_type": "markdown",
   "metadata": {},
   "source": [
    "## 3. Lasso Regression"
   ]
  },
  {
   "cell_type": "code",
   "execution_count": 67,
   "metadata": {},
   "outputs": [],
   "source": [
    "scores = []\n",
    "coefs = []\n",
    "for alpha in alphas:\n",
    "    las = Lasso(alpha=alpha, max_iter=1000000)\n",
    "    \n",
    "    estimator = Pipeline([\n",
    "        (\"scaler\", s),\n",
    "        (\"lasso_regression\", las)])\n",
    "\n",
    "    predictions = cross_val_predict(estimator, X, y, cv = kf)\n",
    "    \n",
    "    score = r2_score(y, predictions)\n",
    "    \n",
    "    scores.append(score)"
   ]
  },
  {
   "cell_type": "code",
   "execution_count": 68,
   "metadata": {},
   "outputs": [
    {
     "data": {
      "text/plain": [
       "[(100.0, 0.8134871605229823),\n",
       " (106.81571704772026, 0.8136994042477189),\n",
       " (114.09597408418622, 0.8138908201684963),\n",
       " (121.87243284060459, 0.8140941788968177),\n",
       " (130.17891302219294, 0.8142752269974821),\n",
       " (139.05153938958347, 0.8144464056258504),\n",
       " (148.52889886487674, 0.8146039160520486),\n",
       " (158.65220834560117, 0.8147470981274155),\n",
       " (169.46549395639693, 0.8148758286453767),\n",
       " (181.01578251798622, 0.8149675792214641),\n",
       " (193.35330606612882, 0.8150242500666869),\n",
       " (206.53172031000847, 0.8150412050659717),\n",
       " (220.60833798012763, 0.8149734949477385),\n",
       " (235.64437808053123, 0.8148263662519366),\n",
       " (251.70523212936035, 0.8146444872590195),\n",
       " (268.860748545605, 0.8144230516710755),\n",
       " (287.1855364188558, 0.8141813587723644),\n",
       " (306.7592899831426, 0.8138857178386808),\n",
       " (327.66713520598887, 0.8135301518673506),\n",
       " (350.0, 0.8131253313637813)]"
      ]
     },
     "execution_count": 68,
     "metadata": {},
     "output_type": "execute_result"
    }
   ],
   "source": [
    "list(zip(alphas,scores))"
   ]
  },
  {
   "cell_type": "code",
   "execution_count": 69,
   "metadata": {},
   "outputs": [
    {
     "data": {
      "image/png": "[encoded data removed]",
      "text/plain": [
       "<Figure size 1000x600 with 1 Axes>"
      ]
     },
     "metadata": {},
     "output_type": "display_data"
    }
   ],
   "source": [
    "plt.figure(figsize=(10,6))\n",
    "plt.semilogx(alphas, scores, '-o')\n",
    "plt.xlabel('$\\\\alpha$')\n",
    "plt.ylabel('$R^2$');"
   ]
  },
  {
   "cell_type": "markdown",
   "metadata": {},
   "source": [
    "## Best value for alpha is around 205"
   ]
  },
  {
   "cell_type": "markdown",
   "metadata": {},
   "source": [
    "## 4. Comparison between Lasso and Ridge regression"
   ]
  },
  {
   "cell_type": "code",
   "execution_count": 70,
   "metadata": {},
   "outputs": [],
   "source": [
    "X = processed_df.drop('latest_price', axis=1)\n",
    "y = processed_df.latest_price"
   ]
  },
  {
   "cell_type": "code",
   "execution_count": 71,
   "metadata": {},
   "outputs": [],
   "source": [
    "from sklearn.model_selection import train_test_split"
   ]
  },
  {
   "cell_type": "code",
   "execution_count": 72,
   "metadata": {},
   "outputs": [],
   "source": [
    "X_train, X_test, y_train, y_test = train_test_split(X, y, test_size=0.3, \n",
    "                                                    random_state=72018)"
   ]
  },
  {
   "cell_type": "code",
   "execution_count": 73,
   "metadata": {},
   "outputs": [
    {
     "name": "stdout",
     "output_type": "stream",
     "text": [
      "r2 score for alpha = 205: 0.7956119614416979\n",
      "Magnitude of Lasso coefficients: 177341.51375940177\n",
      "Number of coeffients not equal to 0 for Lasso: 113\n"
     ]
    }
   ],
   "source": [
    "las001 = Lasso(alpha = 205, max_iter=100000)\n",
    "\n",
    "# Transforming training set to get standardized units\n",
    "X_train_s = s.fit_transform(X_train)\n",
    "\n",
    "# Fitting model to training set\n",
    "las001.fit(X_train_s, y_train)\n",
    "\n",
    "# Transforming test set using the parameters defined from training set\n",
    "X_test_s = s.transform(X_test)\n",
    "\n",
    "# Finding prediction on test set\n",
    "y_pred = las001.predict(X_test_s)\n",
    "\n",
    "# Calculating r2 score\n",
    "print(\"r2 score for alpha = 205:\", r2_score(y_pred, y_test))\n",
    "\n",
    "# Part 3\n",
    "print('Magnitude of Lasso coefficients:', abs(las001.coef_).sum())\n",
    "print('Number of coeffients not equal to 0 for Lasso:', (las001.coef_!=0).sum())\n"
   ]
  },
  {
   "cell_type": "code",
   "execution_count": 74,
   "metadata": {},
   "outputs": [],
   "source": [
    "from sklearn.linear_model import Ridge"
   ]
  },
  {
   "cell_type": "code",
   "execution_count": 75,
   "metadata": {},
   "outputs": [
    {
     "name": "stdout",
     "output_type": "stream",
     "text": [
      "r2 score for alpha = 205: 0.7376737777276718\n",
      "Magnitude of Ridge coefficients: 177835.73212283378\n",
      "Number of coeffients not equal to 0 for Ridge: 164\n"
     ]
    }
   ],
   "source": [
    "r = Ridge(alpha = 205)\n",
    "\n",
    "# Transforming training set to get standardized units\n",
    "X_train_s = s.fit_transform(X_train)\n",
    "\n",
    "# Fitting model to training set\n",
    "r.fit(X_train_s, y_train)\n",
    "\n",
    "# Transforming test set using the parameters defined from training set\n",
    "X_test_s = s.transform(X_test)\n",
    "\n",
    "# Finding prediction on test set\n",
    "y_pred = r.predict(X_test_s)\n",
    "\n",
    "# Calculating r2 score\n",
    "print(\"r2 score for alpha = 205:\", r2_score(y_pred, y_test))\n",
    "\n",
    "# Part 3\n",
    "print('Magnitude of Ridge coefficients:', abs(r.coef_).sum())\n",
    "print('Number of coeffients not equal to 0 for Ridge:', (r.coef_!=0).sum())\n"
   ]
  },
  {
   "cell_type": "markdown",
   "metadata": {},
   "source": [
    "# 4. Insights and key findings\n"
   ]
  },
  {
   "cell_type": "markdown",
   "metadata": {},
   "source": [
    "## For this analysis, the best results are obtained for vanilla Linear Regression for the case scaling is not applied."
   ]
  },
  {
   "cell_type": "markdown",
   "metadata": {},
   "source": [
    "# 5. Next Steps\n"
   ]
  },
  {
   "cell_type": "markdown",
   "metadata": {},
   "source": [
    "## Try the same analysis but with smaller number of features, so that the interpretability of the analysis is enhanced."
   ]
  },
  {
   "cell_type": "code",
   "execution_count": null,
   "metadata": {},
   "outputs": [],
   "source": []
  },
  {
   "cell_type": "code",
   "execution_count": null,
   "metadata": {},
   "outputs": [],
   "source": []
  }
 ],
 "metadata": {
  "kernelspec": {
   "display_name": "Python 3 (ipykernel)",
   "language": "python",
   "name": "python3"
  },
  "language_info": {
   "codemirror_mode": {
    "name": "ipython",
    "version": 3
   },
   "file_extension": ".py",
   "mimetype": "text/x-python",
   "name": "python",
   "nbconvert_exporter": "python",
   "pygments_lexer": "ipython3",
   "version": "3.10.11"
  }
 },
 "nbformat": 4,
 "nbformat_minor": 4
}
